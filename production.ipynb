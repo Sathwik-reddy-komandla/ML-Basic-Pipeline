{
 "cells": [
  {
   "cell_type": "code",
   "execution_count": 6,
   "id": "97cf7318-6000-43db-b366-614da8bc4fc8",
   "metadata": {},
   "outputs": [],
   "source": [
    "import pickle\n",
    "import numpy as np"
   ]
  },
  {
   "cell_type": "code",
   "execution_count": 7,
   "id": "becbdefa-d0cf-43bf-a382-901b460801cf",
   "metadata": {},
   "outputs": [],
   "source": [
    "pipe=pickle.load(open('pipe.pkl','rb'))"
   ]
  },
  {
   "cell_type": "code",
   "execution_count": 8,
   "id": "9bf6ae70-c4e8-4f84-a937-0872c1e90c8f",
   "metadata": {},
   "outputs": [],
   "source": [
    "# user input\n",
    "test_input=np.array([2,'male',31,0,0,10.5,'S'],dtype=object).reshape(1,7)"
   ]
  },
  {
   "cell_type": "code",
   "execution_count": 10,
   "id": "2622d8cc-08df-4468-94ea-1a153eb15bae",
   "metadata": {},
   "outputs": [],
   "source": [
    "pipe.predict(test_input)"
   ]
  },
  {
   "cell_type": "code",
   "execution_count": null,
   "id": "dc54be17-0897-4f8b-a481-c9b1f8c1f7ee",
   "metadata": {},
   "outputs": [],
   "source": []
  },
  {
   "cell_type": "code",
   "execution_count": null,
   "id": "e0164717",
   "metadata": {},
   "outputs": [],
   "source": []
  }
 ],
 "metadata": {
  "kernelspec": {
   "display_name": "Python 3 (ipykernel)",
   "language": "python",
   "name": "python3"
  },
  "language_info": {
   "codemirror_mode": {
    "name": "ipython",
    "version": 3
   },
   "file_extension": ".py",
   "mimetype": "text/x-python",
   "name": "python",
   "nbconvert_exporter": "python",
   "pygments_lexer": "ipython3",
   "version": "3.11.4"
  }
 },
 "nbformat": 4,
 "nbformat_minor": 5
}
